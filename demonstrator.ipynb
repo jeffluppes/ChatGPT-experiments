{
 "cells": [
  {
   "cell_type": "code",
   "execution_count": 1,
   "id": "32ff0eff-3770-44a8-be1d-c5f1aa3f6f29",
   "metadata": {},
   "outputs": [],
   "source": [
    "#import the script I wrote in chatgpt.py\n",
    "import chatgpt"
   ]
  },
  {
   "cell_type": "markdown",
   "id": "8fc9cd6e-0653-462d-8785-7bb2faa34d9d",
   "metadata": {},
   "source": [
    "### Resume-based examples\n",
    "I wanted to try out the following examples:\n",
    "* Career Advice, by ChatGPT \n",
    "* What would improve the following resume to pass HR Screening?\n",
    "* A summary of the CV\n",
    "* An estimate of the number of years of experience\n",
    "* An estimate of the seniority of the candidate in Machine Learning\n",
    "* Any errors or grammatical mistakes\n"
   ]
  },
  {
   "cell_type": "code",
   "execution_count": 2,
   "id": "81b9441a-2004-4713-83e8-68677a7634f8",
   "metadata": {},
   "outputs": [],
   "source": [
    "resume: str = chatgpt.get_text_from_file('jeffsresume.txt')"
   ]
  },
  {
   "cell_type": "code",
   "execution_count": 3,
   "id": "150fa42f-9208-4d3e-bf10-4860c170cd0f",
   "metadata": {},
   "outputs": [],
   "source": [
    "prompts: dict = chatgpt.generate_career_advice_prompts(resume)"
   ]
  },
  {
   "cell_type": "code",
   "execution_count": 4,
   "id": "9e1e2d32-1bc2-4962-8be3-615e824ce68a",
   "metadata": {},
   "outputs": [
    {
     "name": "stdout",
     "output_type": "stream",
     "text": [
      "-----------------------------\n",
      "Give career advice, focusing on the next job, based on the following resume:\n",
      "-----------------------------\n",
      "\n",
      "Based on your experience and the skills you have showcased in your resume, it appears that you have a strong background in Machine Learning and data science. You should focus your next job search on roles that involve developing ML models and data science projects. Look for roles that focus on developing ML pipelines and frameworks, as well as roles that involve working with large data sets. Additionally, consider opportunities that involve developing applications for IoT devices and web scraping. With your experience and skills, you should be able to find a job that will allow you to continue to grow and develop in the ML and data science field.\n",
      "-----------------------------\n",
      "At a high level, what would improve the following resume to pass HR screening?\n",
      "-----------------------------\n",
      "\n",
      "In addition to the existing content, adding a summary of qualifications that highlights the applicant's most relevant skills and accomplishments can help to pass HR screening. This summary should include the applicant's technical and professional experience, qualifications, and any relevant certifications or awards. Additionally, including a list of technical skills and any soft skills that are applicable to the job can help to further show the applicant's qualifications. Finally, if the applicant has any publications or presentations, these should be included as well.\n",
      "-----------------------------\n",
      "Can you summarize the following resume for me?\n",
      "-----------------------------\n",
      "\n",
      "Jeffrey Luppes is a Senior Machine Learning Engineer with experience in NLP, MLOps, data science, cloud engineering, and software engineering. He has led various projects for clients in the Netherlands, France, Denmark, China, and Kenya, developing and implementing ML pipelines, web scraping and monitoring tools, recommender models, and more. He has saved millions per year for one of his clients and developed an application for prenatal screening that ran in production for several years. He also developed Java APIs for IoT devices for an immersive LED lighting display for Alzheimer care.\n",
      "-----------------------------\n",
      "how many years of experience does the following resume have?\n",
      "-----------------------------\n",
      "\n",
      "This resume has 10 years of experience.\n",
      "-----------------------------\n",
      "How senior in their main field is the candidate in the following resume: \n",
      "-----------------------------\n",
      "\n",
      "The candidate is a senior machine learning engineer in their main field.\n",
      "-----------------------------\n",
      "Can you find any errors or grammatical mistakes in the following resume:\n",
      "-----------------------------\n",
      "\n",
      "No errors or grammatical mistakes were found in the resume.\n"
     ]
    }
   ],
   "source": [
    "# show prompts\n",
    "for prompt in prompts:\n",
    "    print(\"-----------------------------\")\n",
    "    print(prompt.get('prompt'))\n",
    "    print(\"-----------------------------\")\n",
    "    print(chatgpt.get_chatgpt_response(prompt.get('text')).get('choices')[0].text)\n",
    "    "
   ]
  },
  {
   "cell_type": "markdown",
   "id": "bd340124-a092-4acd-bf13-eca9c2fa2179",
   "metadata": {},
   "source": [
    "### Job posting-based examples\n",
    "I wanted to try out the following examples:\n",
    "* How can this job posting be improved?\n",
    "* Reading level\n",
    "* How to make a job more appealing to millenials\n",
    "* A summary of the job posting\n",
    "* If there are any red flags\n",
    "* An estimate of the seniority needed\n",
    "* Any errors or grammatical mistakes\n",
    "* the main skills needed for the job"
   ]
  },
  {
   "cell_type": "code",
   "execution_count": 5,
   "id": "1b7083a1-1c4b-448f-a42a-9551c4cf4605",
   "metadata": {},
   "outputs": [],
   "source": [
    "job: str = chatgpt.get_text_from_file('jobposting.txt')"
   ]
  },
  {
   "cell_type": "code",
   "execution_count": 6,
   "id": "9988fe4f-8599-4c3f-8b24-3a40fda067e5",
   "metadata": {},
   "outputs": [],
   "source": [
    "prompts: dict = chatgpt.generate_job_posting_prompts(job)"
   ]
  },
  {
   "cell_type": "code",
   "execution_count": 7,
   "id": "c4d949fd-55fa-4912-8303-f06ccad65b3f",
   "metadata": {},
   "outputs": [
    {
     "name": "stdout",
     "output_type": "stream",
     "text": [
      "-----------------------------\n",
      "How would you improve the following job posting?\n",
      "-----------------------------\n",
      "\n",
      "\n",
      "Improvement:\n",
      "\n",
      "Amsterdam - As a Solution Architect, you will help guide us in reducing our tech stack and achieving our vision. We currently have 15 customer facing brands and 13 tech stacks within our Online Services, which can be broadly categorized into 3 different types: Classifieds (such as Autowereld, Autotrack, and Nationale vacaturebank), Comparison websites (like Independer and MijnEnergie), and 3-C brands (Content, Community, and Conversion) (e.g. Tweakers, Autoweek, and VT Wonen). In practice, we often have multiple different stacks per category, and limited sharing across the stacks, but we have already initiated and delivered harmonization and smart re-usage efforts. \n",
      "\n",
      "Our challenge for you is to create a clearer vision on our desired stack(s) of the future, and a clear view on how we will best grow in that direction. You will play a vital role by guiding, coaching, and sharing knowledge with the domain architects to streamline best practices and come to an overarching architectural vision. \n",
      "\n",
      "We offer a competitive salary, 8% holiday allowance and 4% personal budget, reimbursed sports subscription, a travel allowance, a flexible work allowance, a staff discount, and more! \n",
      "\n",
      "We are looking for a colleague experienced in and passionate about design, architecture and agile product development, who is business focused, has experience managing stakeholders, is a shape-shifter, has a healthy dose of ambition, and can coordinate our IT architecture across Belgium, the Netherlands, and Denmark. TOGAF certification is preferred but not required. \n",
      "\n",
      "At DPG Media, we work for more than 90 strong news brands, magazines, television shows, radio stations, and online services. We are a tech company that treasures freedom and welcomes everyone to apply, whatever your background may be. A great bunch of smart colleagues awaits you and are eager for you to join the team! Learn more about us and find us on LinkedIn and Twitter. \n",
      "\n",
      "If you'd like to become part of our team, apply now! If you have any questions, please reach out to mark.van.dommelen@dpgmedia.nl. We prefer to do our recruitment ourselves and do not need any help with this.\n",
      "-----------------------------\n",
      "What is the reading level needed to understand the following job posting: \n",
      "-----------------------------\n",
      "\n",
      "\n",
      "Reading level: Intermediate\n",
      "-----------------------------\n",
      "How would you make the following job posting appeal more to millenials?\n",
      "-----------------------------\n",
      "\n",
      "\n",
      "Are you a millennial looking for a challenging and fulfilling role in tech? We are looking for a Solution Architect to help us guide the path towards a reduced tech stack in Amsterdam. As one of the largest media companies in the Netherlands, we believe in diversity and inclusion and welcome applicants from all backgrounds to join our team. We offer a high-performing tech workplace where you can be an entrepreneur, an apprentice, and a team player. Plus, you'll get to work with a great bunch of smart colleagues, enjoy 8% holiday allowance and 4% personal budget, and access over 350 training opportunities in our own academy. Apply now to join our team!\n",
      "-----------------------------\n",
      "Can you summarize this job posting?\n",
      "-----------------------------\n",
      "\n",
      "\n",
      "This job posting is for a Solution Architect position at DPG Media, a tech company in Amsterdam. The job involves guiding the path towards a reduced tech stack, and identifying opportunities to benefit from each other while minimizing coordination costs. The applicant should have experience in business-focused architecture at an enterprise level, be able to manage stakeholders, and have knowledge of TOGAF. DPG Media offers a competitive salary and benefits, and welcomes applicants from all backgrounds.\n",
      "-----------------------------\n",
      "Can you see any red flags in the following job posting?\n",
      "-----------------------------\n",
      "\n",
      "\n",
      "Red flags: \n",
      "-No mention of benefits such as health insurance, retirement plans, or other forms of compensation \n",
      "-No mention of working hours or a flexible schedule \n",
      "-No mention of any diversity or inclusion initiatives\n",
      "-----------------------------\n",
      "What is the seniority needed in the main field of the following job posting: \n",
      "-----------------------------\n",
      "\n",
      "\n",
      "Answer: The seniority needed in the main field for this job posting is experience as a business focused architect at an enterprise level.\n",
      "-----------------------------\n",
      "can you find any errors or grammatical mistakes in the following text: \n",
      "-----------------------------\n",
      "\n",
      "\n",
      "No errors or grammatical mistakes.\n",
      "-----------------------------\n",
      "What are the main skills needed for the following job:\n",
      "-----------------------------\n",
      "\n",
      "\n",
      "Main Skills Needed: \n",
      "-Business Architecture \n",
      "-Stakeholder Management \n",
      "-Agile Product Development \n",
      "-Coordination \n",
      "-TOGAF Certification \n",
      "-Digital Transformation \n",
      "-Entrepreneurship \n",
      "-Teamwork \n",
      "-Communication \n",
      "-Problem Solving \n",
      "-Critical Thinking \n",
      "-Analytical Thinking \n",
      "-Strategic Thinking\n"
     ]
    }
   ],
   "source": [
    "# show prompts\n",
    "for prompt in prompts:\n",
    "    print(\"-----------------------------\")\n",
    "    print(prompt.get('prompt'))\n",
    "    print(\"-----------------------------\")\n",
    "    print(chatgpt.get_chatgpt_response(prompt.get('text')).get('choices')[0].text)\n",
    "    "
   ]
  }
 ],
 "metadata": {
  "kernelspec": {
   "display_name": "Python 3 (ipykernel)",
   "language": "python",
   "name": "python3"
  },
  "language_info": {
   "codemirror_mode": {
    "name": "ipython",
    "version": 3
   },
   "file_extension": ".py",
   "mimetype": "text/x-python",
   "name": "python",
   "nbconvert_exporter": "python",
   "pygments_lexer": "ipython3",
   "version": "3.10.5"
  }
 },
 "nbformat": 4,
 "nbformat_minor": 5
}
