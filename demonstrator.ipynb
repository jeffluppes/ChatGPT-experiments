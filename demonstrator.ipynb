{
 "cells": [
  {
   "cell_type": "code",
   "execution_count": 1,
   "id": "32ff0eff-3770-44a8-be1d-c5f1aa3f6f29",
   "metadata": {},
   "outputs": [],
   "source": [
    "#import the script I wrote in chatgpt.py\n",
    "import chatgpt"
   ]
  },
  {
   "cell_type": "markdown",
   "id": "8fc9cd6e-0653-462d-8785-7bb2faa34d9d",
   "metadata": {},
   "source": [
    "### Resume-based examples\n",
    "I wanted to try out the following examples:\n",
    "* Career Advice, by ChatGPT \n",
    "* What would improve the following resume to pass HR Screening?\n",
    "* A summary of the CV\n",
    "* An estimate of the number of years of experience\n",
    "* An estimate of the seniority of the candidate in Machine Learning\n",
    "* Any errors or grammatical mistakes\n"
   ]
  },
  {
   "cell_type": "code",
   "execution_count": 2,
   "id": "81b9441a-2004-4713-83e8-68677a7634f8",
   "metadata": {},
   "outputs": [],
   "source": [
    "resume: str = chatgpt.get_text_from_file('jeffsresume.txt')"
   ]
  },
  {
   "cell_type": "code",
   "execution_count": 3,
   "id": "150fa42f-9208-4d3e-bf10-4860c170cd0f",
   "metadata": {},
   "outputs": [],
   "source": [
    "prompts: dict = chatgpt.generate_career_advice_prompts(resume)"
   ]
  },
  {
   "cell_type": "code",
   "execution_count": 4,
   "id": "9e1e2d32-1bc2-4962-8be3-615e824ce68a",
   "metadata": {},
   "outputs": [
    {
     "name": "stdout",
     "output_type": "stream",
     "text": [
      "-----------------------------\n",
      "Give career advice, focusing on potential next jobs (titles), based on the following resume:\n",
      "-----------------------------\n",
      "\n",
      "Based on the experience and skills outlined in the resume, the next job title you could pursue is Senior Machine Learning Engineer Lead. This role would allow you to build on your experience in ML engineering, data science, and cloud engineering. You could use your expertise to lead ML engineering projects and develop MLOps frameworks, as well as mentor and guide junior engineers. Additionally, you could continue to develop and deploy language models, create automated resume parsing systems, and develop fraud detection models.\n",
      "-----------------------------\n",
      "At a high level, what would improve the following resume to pass HR screening?\n",
      "-----------------------------\n",
      "\n",
      "At a high level, the resume could be improved by including more specific details about the accomplishments and results of each role. For example, instead of simply stating that the MLOps framework was implemented, it could include details about how it improved the brands' ML needs and what the results of the implementation were. Additionally, it could include more information about the projects, such as the technologies used, the timeline, and the outcomes. Finally, it could also include more information about the skills used in each role, such as programming languages, frameworks, and libraries.\n",
      "-----------------------------\n",
      "Can you summarize the following resume for me?\n",
      "-----------------------------\n",
      "\n",
      "Jeffrey Luppes is a Senior Machine Learning Engineer with experience in MLOps, NLP, data science, software engineering, and cloud engineering. He is currently the sole ML engineer for DPG's Online Services and has architected and implemented an MLOps framework that supports the brands in all their ML needs. Jeffrey has developed and deployed language models for articles and job postings, a system to automatically parse resumes and CVs, and a web app with recommender models for mortgage and financial products. He has also developed scalable methods for ETL processes with large data sets, web scraping and monitoring tools, a geo-spatial database system interfaced by an RESTful API, and a new application for prenatal screening.\n",
      "-----------------------------\n",
      "how many years of experience does the following resume have in the candidates main field?\n",
      "-----------------------------\n",
      "\n",
      "The candidate has approximately 8 years of experience in their main field.\n",
      "-----------------------------\n",
      "How senior in their main field is the candidate in the following resume: \n",
      "-----------------------------\n",
      "\n",
      "In this case, the candidate is a Senior Machine Learning Engineer, as this is the most recent and relevant experience listed on their resume.\n",
      "-----------------------------\n",
      "Can you find any errors or grammatical mistakes in the following resume:\n",
      "-----------------------------\n",
      "\n",
      "No errors or grammatical mistakes were found.\n"
     ]
    }
   ],
   "source": [
    "# show prompts\n",
    "for prompt in prompts:\n",
    "    print(\"-----------------------------\")\n",
    "    print(prompt.get('prompt'))\n",
    "    print(\"-----------------------------\")\n",
    "    print(chatgpt.get_chatgpt_response(prompt.get('text')).get('choices')[0].text)\n",
    "    "
   ]
  },
  {
   "cell_type": "markdown",
   "id": "bd340124-a092-4acd-bf13-eca9c2fa2179",
   "metadata": {},
   "source": [
    "### Job posting-based examples\n",
    "I wanted to try out the following examples:\n",
    "* How can this job posting be improved?\n",
    "* Reading level\n",
    "* How to make a job more appealing to millenials\n",
    "* A summary of the job posting\n",
    "* If there are any red flags\n",
    "* An estimate of the seniority needed\n",
    "* Any errors or grammatical mistakes\n",
    "* the main skills needed for the job"
   ]
  },
  {
   "cell_type": "code",
   "execution_count": 5,
   "id": "1b7083a1-1c4b-448f-a42a-9551c4cf4605",
   "metadata": {},
   "outputs": [],
   "source": [
    "job: str = chatgpt.get_text_from_file('jobposting.txt')"
   ]
  },
  {
   "cell_type": "code",
   "execution_count": 6,
   "id": "9988fe4f-8599-4c3f-8b24-3a40fda067e5",
   "metadata": {},
   "outputs": [],
   "source": [
    "prompts: dict = chatgpt.generate_job_posting_prompts(job)"
   ]
  },
  {
   "cell_type": "code",
   "execution_count": 7,
   "id": "c4d949fd-55fa-4912-8303-f06ccad65b3f",
   "metadata": {},
   "outputs": [
    {
     "name": "stdout",
     "output_type": "stream",
     "text": [
      "-----------------------------\n",
      "How would you improve the following job posting?\n",
      "-----------------------------\n",
      "\n",
      "\n",
      "Improvement:\n",
      "\n",
      "Amsterdam - as a Solution Architect, you will play a vital role in guiding the path towards a reduced tech stack and realizing our vision of where we want to be. We have a landscape of 15 customer-facing brands and 13 tech stacks within DPG Online Services, broadly categorized into Classifieds, Comparison websites, and 3-C brands (Content, Community, and Conversion). \n",
      "\n",
      "In practice, we often have multiple different stacks per category, with limited sharing across the stacks. We have initiated several harmonisation and smart re-usage efforts, such as the Car Classifieds sharing a 'chassis' of back-end services, Independer in the Netherlands and Belgium sharing the same stack, and the 3C brands sharing a brand new modular platform. \n",
      "\n",
      "Your challenge is to translate the current landscape to a future-proof architecture to support the short and long-term business goals. You will have a critical and thorough look at our different stacks to identify opportunities for where we can benefit from each other, and where coordination costs more than it brings. You will guide, coach and share knowledge with the domain architects to streamline best practices and come to an overarching architectural vision. \n",
      "\n",
      "In addition to a competitive salary, we offer 8% holiday allowance and 4% personal budget (which you can use to buy extra vacation days or a bicycle with tax benefit). You also receive a piece of the profit every year and can declare the costs of your sports subscription at the end of the year. We offer a 36-hour working week with a day off once every two weeks, and you can work from home half your week. We have over 350 training opportunities in our own academy, plus we pay for any training outside of our academy. We also offer travel allowance, a flexible work allowance, and a staff discount. \n",
      "\n",
      "We are looking for a colleague experienced in and passionate about design, architecture and agile product development, who has experience as a business-focused architect at an enterprise level, experience working with and managing stakeholders from all levels, and a healthy dose of ambition. Experience with TOGAF or a willingness to invest time in a certification is preferred. \n",
      "\n",
      "At DPG Media, we work for more than 90 strong news brands, magazines, television shows, radio stations, and online services. We treasure freedom and welcome everyone to apply, whatever your background may be. A great bunch of smart colleagues awaits you and are eager for you to join the team, whether that be a project team, a pub quiz team, or a sports team. \n",
      "\n",
      "If you are interested in joining us, please apply now! If you want to know more first, please contact mark.van.dommelen@dpgmedia.nl. We prefer to do our recruitment ourselves and do not need any help with this.\n",
      "-----------------------------\n",
      "What is the reading level needed to understand the following job posting: \n",
      "-----------------------------\n",
      "\n",
      "\n",
      "Reading level: Intermediate\n",
      "-----------------------------\n",
      "How would you make the following job posting appeal more to younger candidates?\n",
      "-----------------------------\n",
      "\n",
      "-----------------------------\n",
      "Can you summarize this job posting?\n",
      "-----------------------------\n",
      "\n",
      "\n",
      "This job posting is for a Solution Architect position at DPG Media in Amsterdam. The job involves guiding the company towards a reduced tech stack, as there are currently 15 customer facing brands and 13 tech stacks within Online Services. The Solution Architect will assess the current landscape and develop a future proof architecture to support the company's short and long-term business goals. The ideal candidate will have experience as a business focused architect, working with and managing stakeholders, and have experience with using TOGAF or be willing to invest time in a TOGAF certification. DPG Media offers a competitive salary and benefits package to successful candidates.\n",
      "-----------------------------\n",
      "Can you see any red flags in the following job posting?\n",
      "-----------------------------\n",
      "\n",
      "\n",
      "Red flags: \n",
      "-No mention of salary range \n",
      "-No mention of benefits such as health insurance, retirement benefits, etc. \n",
      "-No mention of the job's location\n",
      "-----------------------------\n",
      "What is the seniority needed in the main field of the following job posting: \n",
      "-----------------------------\n",
      "\n",
      "\n",
      "The seniority needed in the main field of this job posting is experienced.\n",
      "-----------------------------\n",
      "can you find any errors or grammatical mistakes in the following text: \n",
      "-----------------------------\n",
      "\n",
      "\n",
      "No grammatical errors or mistakes found.\n",
      "-----------------------------\n",
      "What are the main skills needed for the following job:\n",
      "-----------------------------\n",
      "\n",
      "\n",
      "Main Skills Needed: \n",
      "• Experience as a business focused architect at an enterprise level\n",
      "• Experience working with and managing stakeholders from all levels\n",
      "• Shape-shifting ability \n",
      "• Healthy dose of ambition \n",
      "• Coordinating IT architecture across Belgium, the Netherlands, and Denmark\n",
      "• Experience with TOGAF or willingness to invest in a TOGAF certification\n",
      "-----------------------------\n",
      "How hard do you think this job is?\n",
      "-----------------------------\n",
      "\n",
      "\n",
      "Answer: This job is likely to be a challenging position that requires a high level of technical knowledge and experience. The Solution Architect will need to have a deep understanding of the current tech stack and be able to make well-informed decisions to guide the company towards its desired tech stack. They will need to have the ability to coordinate with stakeholders from all levels and across countries, and to be able to effectively communicate their ideas to a variety of audiences. In addition, the Solution Architect will need to be able to take initiative and be proactive in finding solutions to complex problems.\n"
     ]
    }
   ],
   "source": [
    "# show prompts\n",
    "for prompt in prompts:\n",
    "    print(\"-----------------------------\")\n",
    "    print(prompt.get('prompt'))\n",
    "    print(\"-----------------------------\")\n",
    "    print(chatgpt.get_chatgpt_response(prompt.get('text')).get('choices')[0].text)\n",
    "    "
   ]
  }
 ],
 "metadata": {
  "kernelspec": {
   "display_name": "Python 3 (ipykernel)",
   "language": "python",
   "name": "python3"
  },
  "language_info": {
   "codemirror_mode": {
    "name": "ipython",
    "version": 3
   },
   "file_extension": ".py",
   "mimetype": "text/x-python",
   "name": "python",
   "nbconvert_exporter": "python",
   "pygments_lexer": "ipython3",
   "version": "3.10.5"
  }
 },
 "nbformat": 4,
 "nbformat_minor": 5
}
