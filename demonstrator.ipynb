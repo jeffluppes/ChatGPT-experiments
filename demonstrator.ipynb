{
 "cells": [
  {
   "cell_type": "code",
   "execution_count": 1,
   "id": "32ff0eff-3770-44a8-be1d-c5f1aa3f6f29",
   "metadata": {},
   "outputs": [],
   "source": [
    "#import the script I wrote in chatgpt.py\n",
    "import chatgpt"
   ]
  },
  {
   "cell_type": "markdown",
   "id": "8fc9cd6e-0653-462d-8785-7bb2faa34d9d",
   "metadata": {},
   "source": [
    "### Resume-based examples\n",
    "I wanted to try out the following examples:\n",
    "* Career Advice, by ChatGPT \n",
    "* What would improve the following resume to pass HR Screening?\n",
    "* A summary of the CV\n",
    "* An estimate of the number of years of experience\n",
    "* An estimate of the seniority of the candidate in Machine Learning\n",
    "* Any errors or grammatical mistakes\n"
   ]
  },
  {
   "cell_type": "code",
   "execution_count": 2,
   "id": "81b9441a-2004-4713-83e8-68677a7634f8",
   "metadata": {},
   "outputs": [],
   "source": [
    "resume: str = chatgpt.get_text_from_file('jeffsresume.txt')"
   ]
  },
  {
   "cell_type": "code",
   "execution_count": 3,
   "id": "150fa42f-9208-4d3e-bf10-4860c170cd0f",
   "metadata": {},
   "outputs": [],
   "source": [
    "prompts: dict = chatgpt.generate_career_advice_prompts(resume)"
   ]
  },
  {
   "cell_type": "code",
   "execution_count": 4,
   "id": "9e1e2d32-1bc2-4962-8be3-615e824ce68a",
   "metadata": {},
   "outputs": [
    {
     "name": "stdout",
     "output_type": "stream",
     "text": [
      "-----------------------------\n",
      "{'Give career advice, focusing on the next job, based on the following resume:'}\n",
      "-----------------------------\n",
      "\n",
      "Based on this resume, the best career advice would be to focus on developing a portfolio of projects that highlight your experience in machine learning, data science, and software engineering. Showcase the projects you have worked on and the results you have achieved. Demonstrate your experience in developing and deploying ML models, building MLOps frameworks, and working with large datasets. Show how your work has had a positive impact on the businesses you have worked with. Additionally, emphasize the breadth of your experience, from working with startups to large enterprises, and from developing customer service agents to parsing resumes and CVs. This will demonstrate your ability to work on a variety of projects and to quickly adapt to new environments.\n",
      "-----------------------------\n",
      "{'At a high level, what would improve the following resume to pass HR screening?'}\n",
      "-----------------------------\n",
      "\n",
      "At a high level, the following improvements would help the resume pass HR screening: \n",
      "\n",
      "1. Ensure that the resume is organized in a clear, easy-to-read format. Include dates for each position and make sure that the content is concise and relevant to the job being applied for.\n",
      "\n",
      "2. Highlight key accomplishments and results achieved in each position. Use concrete metrics and figures to demonstrate the impact of each project.\n",
      "\n",
      "3. Tailor the resume to the job posting. Include specific keywords and phrases used in the job description, as well as skills and experiences that align with the requirements.\n",
      "\n",
      "4. Proofread the resume for any typos or errors. Make sure that the language is clear and professional.\n",
      "\n",
      "5. Include relevant certifications and achievements, such as awards, publications, or memberships in professional organizations.\n",
      "-----------------------------\n",
      "{'Can you summarize the following resume for me?'}\n",
      "-----------------------------\n",
      "\n",
      "Jeffrey Luppes is a Senior Machine Learning Engineer with experience in MLOps, NLP, cloud engineering, and data science. He has worked for companies such as DPG Media, Atos, Topicus Finance, TNO, University Medical Center Groningen, and Hanze University of Applied Science and Zorginstelling Noord-Nederland. His projects have included architecting and implementing an MLOps framework, developing language models for articles and job postings, creating a system to parse resumes and CVs, developing fraud detection deep learning models, creating a web app with recommender models, developing scalable ETL processes, and creating Java APIs for IoT devices.\n",
      "-----------------------------\n",
      "{'how many years of experience does the following resume have?'}\n",
      "-----------------------------\n",
      "\n",
      "This resume has approximately 8 years of experience.\n",
      "-----------------------------\n",
      "{'How senior in machine learning is the candidate in the following resume: '}\n",
      "-----------------------------\n",
      "\n",
      "The candidate in the resume is a Senior Machine Learning Engineer.\n",
      "-----------------------------\n",
      "{'Can you find any errors or grammatical mistakes in the following resume:'}\n",
      "-----------------------------\n",
      "\n",
      "No errors or grammatical mistakes were found.\n"
     ]
    }
   ],
   "source": [
    "# show prompts\n",
    "for prompt in prompts:\n",
    "    print(\"-----------------------------\")\n",
    "    print(prompt.get('prompt'))\n",
    "    print(\"-----------------------------\")\n",
    "    print(chatgpt.get_chatgpt_response(prompt.get('text')).get('choices')[0].text)\n",
    "    "
   ]
  },
  {
   "cell_type": "markdown",
   "id": "bd340124-a092-4acd-bf13-eca9c2fa2179",
   "metadata": {},
   "source": [
    "### Job posting-based examples\n",
    "I wanted to try out the following examples:\n",
    "* How can this job posting be improved?\n",
    "* Reading level\n",
    "* How to make a job more appealing to millenials\n",
    "* A summary of the job posting\n",
    "* If there are any red flags\n",
    "* An estimate of the seniority needed\n",
    "* Any errors or grammatical mistakes\n",
    "* the main skills needed for the job"
   ]
  },
  {
   "cell_type": "code",
   "execution_count": 5,
   "id": "1b7083a1-1c4b-448f-a42a-9551c4cf4605",
   "metadata": {},
   "outputs": [],
   "source": [
    "job: str = chatgpt.get_text_from_file('jobposting.txt')"
   ]
  },
  {
   "cell_type": "code",
   "execution_count": 6,
   "id": "9988fe4f-8599-4c3f-8b24-3a40fda067e5",
   "metadata": {},
   "outputs": [],
   "source": [
    "prompts: dict = chatgpt.generate_job_posting_prompts(job)"
   ]
  },
  {
   "cell_type": "code",
   "execution_count": 7,
   "id": "c4d949fd-55fa-4912-8303-f06ccad65b3f",
   "metadata": {},
   "outputs": [
    {
     "name": "stdout",
     "output_type": "stream",
     "text": [
      "-----------------------------\n",
      "{'How would you improve the following job posting?'}\n",
      "-----------------------------\n",
      "\n",
      "\n",
      "Improvement: \n",
      "Amsterdam - As a Solution Architect, you will be a key player in guiding us towards a reduced tech stack. We have a clear vision of what we want to achieve and need you to help us get there. \n",
      "\n",
      "Our landscape within DPG Online Services consists of 15 customer-facing brands and 13 tech stacks. Broadly, you can categorize these stacks into three types: Classifieds (e.g. Autowereld, Autotrack, Nationale vacaturebank), Comparison Websites (e.g. Independer and MijnEnergie), and 3-C Brands (Content, Community and Conversion, e.g. Tweakers, Autoweek, VT Wonen). \n",
      "\n",
      "We have already initiated and delivered several harmonization and smart re-usage efforts, such as the Car Classifieds sharing a â€˜chassisâ€™ of back-end services and Independer in the Netherlands and Belgium sharing the same stack. The 3C Brands also share a brand new modular platform. \n",
      "\n",
      "Our challenge for you is to help us translate the current landscape to a future-proof architecture that will support our short and long-term business goals. We need you to take a critical and thorough look at our different stacks to identify opportunities for collaboration, as well as where coordination costs more than it brings. We need you to guide, coach and share knowledge with the domain architects to streamline best practices and come to an overarching architectural vision. \n",
      "\n",
      "We offer a competitive salary based on your experience, 8% holiday allowance, 4% personal budget, profit sharing, a 36-hour working week with a day off every two weeks, the ability to work from home half the week, access to over 350 training opportunities in our own academy, TOGAF certification, a subscription to a newspaper or magazine of your choice, travel allowance, a flexible work allowance, and a staff discount for specific options.\n",
      "\n",
      "We are looking for a colleague experienced in and passionate about design, architecture and agile product development. You should have experience as a business-focused architect at an enterprise level, managing stakeholders from all levels, and be able to easily absorb and assist in new contexts, team setups and ways of working. You should also be eager to coordinate IT architecture across the borders of Belgium, the Netherlands and Denmark.\n",
      "\n",
      "At DPG Media, we work for more than 90 strong news brands, magazines, television shows, radio stations, and online services. We are open to all talents in our society and welcome candidates from diverse backgrounds. We offer a high-performing tech workplace where we treasure freedom and are eager for you to join the team. \n",
      "\n",
      "If this sounds like the perfect opportunity for you, apply now! If you'd like to know more first, please contact mark.van.dommelen@dpgmedia.nl. We do not need any help with recruitment.\n",
      "-----------------------------\n",
      "{'What is the reading level needed to understand the following job posting: '}\n",
      "-----------------------------\n",
      "\n",
      "\n",
      "Reading level: Intermediate\n",
      "-----------------------------\n",
      "{'How would you make the following job posting appeal more to millenials?'}\n",
      "-----------------------------\n",
      " \n",
      "\n",
      "We are looking for a Solution Architect to join our team in Amsterdam and help us in guiding the path towards a reduced tech stack. We have a vision of where we want to be and need you to help us get there! As a Solution Architect, you will have a critical and thorough look at our different stacks to identify opportunities, as well as coordinate our IT architecture across the borders of Belgium, the Netherlands and Denmark. In addition, you will have access to over 350 training opportunities in our own academy and have the opportunity to become TOGAF certified. Our team offers a dynamic and challenging environment where you can fully develop and benefit from the perks of working with us! We welcome all talented candidates to apply, whatever your background may be. Join us to be part of a great team of smart colleagues and make an impact on the future of digital transformation!\n",
      "-----------------------------\n",
      "{'Can you summarize this job posting?'}\n",
      "-----------------------------\n",
      "\n",
      "\n",
      "This job posting seeks a Solution Architect to help guide the path towards a reduced tech stack at DPG Online Services, which currently has 15 customer facing brands and 13 tech stacks. The Architect will look at the current landscape and develop an overarching architectural vision that supports the short and long-term business goals. The job offers a range of benefits, and is open to candidates of all backgrounds.\n",
      "-----------------------------\n",
      "{'Can you see any red flags in the following job posting?'}\n",
      "-----------------------------\n",
      "\n",
      "\n",
      "Red flags: \n",
      "-No mention of salary range \n",
      "-No mention of benefits \n",
      "-No mention of location \n",
      "-No mention of working hours \n",
      "-No mention of job requirements \n",
      "-No mention of qualifications or experience required\n",
      "-----------------------------\n",
      "{'What is the seniority needed in the main field of the following job posting: '}\n",
      "-----------------------------\n",
      "\n",
      "\n",
      "Answer:\n",
      "The seniority needed in the main field of the job posting is experienced.\n",
      "-----------------------------\n",
      "{'can you find any errors or grammatical mistakes in the following text: '}\n",
      "-----------------------------\n",
      "\n",
      "\n",
      "No errors or grammatical mistakes.\n",
      "-----------------------------\n",
      "{'What are the main skills needed for the following job:'}\n",
      "-----------------------------\n",
      "\n",
      "\n",
      "Main Skills Needed:\n",
      "• Business-focused architecture experience at the enterprise level\n",
      "• Stakeholder management experience\n",
      "• Ability to absorb and assist in new contexts, team setups, and ways of working\n",
      "• Ambition to grow with the organization\n",
      "• Knowledge of TOGAF (or willingness to invest in a TOGAF certification)\n",
      "• Understanding of digital transformation\n",
      "• Ability to work both independently and collaboratively\n",
      "• Excellent communication skills\n"
     ]
    }
   ],
   "source": [
    "# show prompts\n",
    "for prompt in prompts:\n",
    "    print(\"-----------------------------\")\n",
    "    print(prompt.get('prompt'))\n",
    "    print(\"-----------------------------\")\n",
    "    print(chatgpt.get_chatgpt_response(prompt.get('text')).get('choices')[0].text)\n",
    "    "
   ]
  }
 ],
 "metadata": {
  "kernelspec": {
   "display_name": "Python 3 (ipykernel)",
   "language": "python",
   "name": "python3"
  },
  "language_info": {
   "codemirror_mode": {
    "name": "ipython",
    "version": 3
   },
   "file_extension": ".py",
   "mimetype": "text/x-python",
   "name": "python",
   "nbconvert_exporter": "python",
   "pygments_lexer": "ipython3",
   "version": "3.10.5"
  }
 },
 "nbformat": 4,
 "nbformat_minor": 5
}
